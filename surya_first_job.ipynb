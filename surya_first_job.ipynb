{
 "cells": [
  {
   "cell_type": "code",
   "execution_count": 0,
   "metadata": {
    "application/vnd.databricks.v1+cell": {
     "cellMetadata": {
      "byteLimit": 2048000,
      "rowLimit": 10000
     },
     "inputWidgets": {},
     "nuid": "4720b33e-507c-45e6-b128-4d7d7d1625d0",
     "showTitle": false,
     "title": ""
    }
   },
   "outputs": [],
   "source": [
    "dbutils.widgets.text(\"user_query\", \"Enter your query here...\")\n",
    "\n",
    "# Get user input from widgets\n",
    "user_query = dbutils.widgets.get(\"user_query\")\n",
    "response=\"surya\"\n",
    "dbutils.notebook.exit(response)\n"
   ]
  }
 ],
 "metadata": {
  "application/vnd.databricks.v1+notebook": {
   "dashboards": [],
   "environmentMetadata": null,
   "language": "python",
   "notebookMetadata": {
    "pythonIndentUnit": 4
   },
   "notebookName": "surya_first_job",
   "widgets": {
    "user_query": {
     "currentValue": "Enter your query here...",
     "nuid": "7552eb6a-f5e7-4446-a079-e8307503afd8",
     "typedWidgetInfo": {
      "autoCreated": false,
      "defaultValue": "Enter your query here...",
      "label": null,
      "name": "user_query",
      "options": {
       "widgetDisplayType": "Text",
       "validationRegex": null
      },
      "parameterDataType": "String"
     },
     "widgetInfo": {
      "widgetType": "text",
      "defaultValue": "Enter your query here...",
      "label": null,
      "name": "user_query",
      "options": {
       "widgetType": "text",
       "autoCreated": null,
       "validationRegex": null
      }
     }
    }
   }
  }
 },
 "nbformat": 4,
 "nbformat_minor": 0
}
